{
  "cells": [
    {
      "cell_type": "markdown",
      "metadata": {
        "id": "view-in-github",
        "colab_type": "text"
      },
      "source": [
        "<a href=\"https://colab.research.google.com/github/soumfatim/GMM-Group-Project/blob/main/Copy_of_TF_IDF_from_Scratch.ipynb\" target=\"_parent\"><img src=\"https://colab.research.google.com/assets/colab-badge.svg\" alt=\"Open In Colab\"/></a>"
      ]
    },
    {
      "cell_type": "markdown",
      "metadata": {
        "id": "zjg6Wc4PCTmd"
      },
      "source": [
        "# TF-IDF from Scratch"
      ]
    },
    {
      "cell_type": "code",
      "execution_count": 7,
      "metadata": {
        "id": "_V37-DBDCTmf"
      },
      "outputs": [],
      "source": [
        "import pandas as pd\n",
        "import sklearn as sk\n",
        "import math\n",
        "import nltk\n",
        "from nltk.corpus import stopwords\n"
      ]
    },
    {
      "cell_type": "code",
      "source": [
        "nltk.download('stopwords')"
      ],
      "metadata": {
        "colab": {
          "base_uri": "https://localhost:8080/"
        },
        "id": "OSnEtNtpDJz9",
        "outputId": "e1ccdd40-73de-4447-e9df-f50f41b6d4d7"
      },
      "execution_count": 10,
      "outputs": [
        {
          "output_type": "stream",
          "name": "stdout",
          "text": [
            "[nltk_data] Downloading package stopwords to /root/nltk_data...\n",
            "[nltk_data]   Unzipping corpora/stopwords.zip.\n"
          ]
        },
        {
          "output_type": "execute_result",
          "data": {
            "text/plain": [
              "True"
            ]
          },
          "metadata": {},
          "execution_count": 10
        }
      ]
    },
    {
      "cell_type": "code",
      "execution_count": 16,
      "metadata": {
        "id": "UP-OQVqkCTmg",
        "colab": {
          "base_uri": "https://localhost:8080/"
        },
        "outputId": "b59cda8b-98d8-4459-e89e-fd2befd6e2d8"
      },
      "outputs": [
        {
          "output_type": "execute_result",
          "data": {
            "text/plain": [
              "{'a',\n",
              " 'about',\n",
              " 'above',\n",
              " 'after',\n",
              " 'again',\n",
              " 'against',\n",
              " 'ain',\n",
              " 'all',\n",
              " 'am',\n",
              " 'an',\n",
              " 'and',\n",
              " 'any',\n",
              " 'are',\n",
              " 'aren',\n",
              " \"aren't\",\n",
              " 'as',\n",
              " 'at',\n",
              " 'be',\n",
              " 'because',\n",
              " 'been',\n",
              " 'before',\n",
              " 'being',\n",
              " 'below',\n",
              " 'between',\n",
              " 'both',\n",
              " 'but',\n",
              " 'by',\n",
              " 'can',\n",
              " 'couldn',\n",
              " \"couldn't\",\n",
              " 'd',\n",
              " 'did',\n",
              " 'didn',\n",
              " \"didn't\",\n",
              " 'do',\n",
              " 'does',\n",
              " 'doesn',\n",
              " \"doesn't\",\n",
              " 'doing',\n",
              " 'don',\n",
              " \"don't\",\n",
              " 'down',\n",
              " 'during',\n",
              " 'each',\n",
              " 'few',\n",
              " 'for',\n",
              " 'from',\n",
              " 'further',\n",
              " 'had',\n",
              " 'hadn',\n",
              " \"hadn't\",\n",
              " 'has',\n",
              " 'hasn',\n",
              " \"hasn't\",\n",
              " 'have',\n",
              " 'haven',\n",
              " \"haven't\",\n",
              " 'having',\n",
              " 'he',\n",
              " 'her',\n",
              " 'here',\n",
              " 'hers',\n",
              " 'herself',\n",
              " 'him',\n",
              " 'himself',\n",
              " 'his',\n",
              " 'how',\n",
              " 'i',\n",
              " 'if',\n",
              " 'in',\n",
              " 'into',\n",
              " 'is',\n",
              " 'isn',\n",
              " \"isn't\",\n",
              " 'it',\n",
              " \"it's\",\n",
              " 'its',\n",
              " 'itself',\n",
              " 'just',\n",
              " 'll',\n",
              " 'm',\n",
              " 'ma',\n",
              " 'me',\n",
              " 'mightn',\n",
              " \"mightn't\",\n",
              " 'more',\n",
              " 'most',\n",
              " 'mustn',\n",
              " \"mustn't\",\n",
              " 'my',\n",
              " 'myself',\n",
              " 'needn',\n",
              " \"needn't\",\n",
              " 'no',\n",
              " 'nor',\n",
              " 'not',\n",
              " 'now',\n",
              " 'o',\n",
              " 'of',\n",
              " 'off',\n",
              " 'on',\n",
              " 'once',\n",
              " 'only',\n",
              " 'or',\n",
              " 'other',\n",
              " 'our',\n",
              " 'ours',\n",
              " 'ourselves',\n",
              " 'out',\n",
              " 'over',\n",
              " 'own',\n",
              " 're',\n",
              " 's',\n",
              " 'same',\n",
              " 'shan',\n",
              " \"shan't\",\n",
              " 'she',\n",
              " \"she's\",\n",
              " 'should',\n",
              " \"should've\",\n",
              " 'shouldn',\n",
              " \"shouldn't\",\n",
              " 'so',\n",
              " 'some',\n",
              " 'such',\n",
              " 't',\n",
              " 'than',\n",
              " 'that',\n",
              " \"that'll\",\n",
              " 'the',\n",
              " 'their',\n",
              " 'theirs',\n",
              " 'them',\n",
              " 'themselves',\n",
              " 'then',\n",
              " 'there',\n",
              " 'these',\n",
              " 'they',\n",
              " 'this',\n",
              " 'those',\n",
              " 'through',\n",
              " 'to',\n",
              " 'too',\n",
              " 'under',\n",
              " 'until',\n",
              " 'up',\n",
              " 've',\n",
              " 'very',\n",
              " 'was',\n",
              " 'wasn',\n",
              " \"wasn't\",\n",
              " 'we',\n",
              " 'were',\n",
              " 'weren',\n",
              " \"weren't\",\n",
              " 'what',\n",
              " 'when',\n",
              " 'where',\n",
              " 'which',\n",
              " 'while',\n",
              " 'who',\n",
              " 'whom',\n",
              " 'why',\n",
              " 'will',\n",
              " 'with',\n",
              " 'won',\n",
              " \"won't\",\n",
              " 'wouldn',\n",
              " \"wouldn't\",\n",
              " 'y',\n",
              " 'you',\n",
              " \"you'd\",\n",
              " \"you'll\",\n",
              " \"you're\",\n",
              " \"you've\",\n",
              " 'your',\n",
              " 'yours',\n",
              " 'yourself',\n",
              " 'yourselves'}"
            ]
          },
          "metadata": {},
          "execution_count": 16
        }
      ],
      "source": [
        "set(stopwords.words('english'))\n"
      ]
    },
    {
      "cell_type": "code",
      "execution_count": 48,
      "metadata": {
        "id": "hsSEUuTcCTmg"
      },
      "outputs": [],
      "source": [
        "def computeTF(wordDict, doc):\n",
        "    \"\"\"\n",
        "        tf(t,d) = log(1+f(t,d))\n",
        "        f(t,d)=count of t in d / number of words in d\n",
        "\n",
        "    :param wordDict:\n",
        "    :param doc:\n",
        "    :return:\n",
        "    \"\"\"\n",
        "    tfDict = {}\n",
        "    corpusCount = len(doc)\n",
        "    for word, count in wordDict.items():\n",
        "        tfDict[word] = math.log(1+count/float(corpusCount))\n",
        "    return(tfDict)\n",
        "\n",
        "# def computeIDF(docList):\n",
        "#     \"\"\"\n",
        "#         idf(t) = log(N/(df + 1))\n",
        "#     :param docList:\n",
        "#     :return:\n",
        "#     \"\"\"\n",
        "#     idfDict = {}\n",
        "#     N = len(docList)\n",
        "\n",
        "#     idfDict = dict.fromkeys(docList[0].keys(), 0)\n",
        "#     for word, val in idfDict.items():\n",
        "#         idfDict[word] = math.log10(N / (float(val) + 1))\n",
        "\n",
        "#     return (idfDict)\n",
        "def computeIDF(docList):\n",
        "    import math\n",
        "    idfDict = {}\n",
        "    N = len(docList)\n",
        "    \n",
        "    idfDict = dict.fromkeys(docList[0].keys(), 0)\n",
        "    for doc in docList:\n",
        "        for word, val in doc.items():\n",
        "            if val > 0:\n",
        "                idfDict[word] += 1\n",
        "    \n",
        "    for word, val in idfDict.items():\n",
        "        idfDict[word] = math.log10(N / float(val))\n",
        "        \n",
        "    return idfDict\n",
        "\n",
        "def computeTFIDF(tfBow, idfs):\n",
        "    \"\"\"\n",
        "    tf-idf(t, d) = tf(t, d) * log(N/(df + 1))\n",
        "    :param tfBow:\n",
        "    :param idfs:\n",
        "    :return:\n",
        "    \"\"\"\n",
        "    tfidf = {}\n",
        "    for word, val in tfBow.items():\n",
        "        tfidf[word] = val*idfs[word]\n",
        "    return(tfidf)\n"
      ]
    },
    {
      "cell_type": "code",
      "execution_count": 49,
      "metadata": {
        "id": "eXdbKMyyCTmh"
      },
      "outputs": [],
      "source": [
        "sentence1 = \"Go until jurong point, crazy.. Available only in bugis n great world la e buffet... Cine there got amore wat...\"\n",
        "sentence2 = \"Free entry in 2 a wkly comp to win FA Cup final tkts 21st May 2005. Text FA to 87121 to receive entry question(std txt rate)T&C's apply 08452810075over18's\"\n"
      ]
    },
    {
      "cell_type": "code",
      "source": [
        "nltk.download('punkt')"
      ],
      "metadata": {
        "colab": {
          "base_uri": "https://localhost:8080/"
        },
        "id": "3qQV2wkaDiCA",
        "outputId": "8625a656-c75e-4474-92ae-f4acd94dfe45"
      },
      "execution_count": 50,
      "outputs": [
        {
          "output_type": "stream",
          "name": "stdout",
          "text": [
            "[nltk_data] Downloading package punkt to /root/nltk_data...\n",
            "[nltk_data]   Package punkt is already up-to-date!\n"
          ]
        },
        {
          "output_type": "execute_result",
          "data": {
            "text/plain": [
              "True"
            ]
          },
          "metadata": {},
          "execution_count": 50
        }
      ]
    },
    {
      "cell_type": "code",
      "execution_count": 51,
      "metadata": {
        "id": "SS0oTru6CTmh",
        "outputId": "41c83c0f-ba0c-46c6-ff88-a218e1cf9503",
        "colab": {
          "base_uri": "https://localhost:8080/"
        }
      },
      "outputs": [
        {
          "output_type": "stream",
          "name": "stdout",
          "text": [
            "{'got', 'final', 'a', 'n', 'e', 'Go', 'jurong', '2', 'wat', 'bugis', 'amore', 'Text', 'FA', 'C', 'entry', 'great', '08452810075over18', 'to', '.', 'std', 'until', 'Free', 'rate', 'May', 'Available', 'receive', 'comp', 'la', 'there', 'tkts', 'crazy..', ',', '...', 'T', 'Cup', '&', '87121', 'point', \"'s\", '21st', 'buffet', 'wkly', 'win', 'Cine', 'txt', 'only', ')', 'world', '2005', 'question', '(', 'apply', 'in'}\n"
          ]
        }
      ],
      "source": [
        "#split so each word have their own string\n",
        "sentence1_list = nltk.word_tokenize(sentence1)\n",
        "sentence2_list = nltk.word_tokenize(sentence2)\n",
        "total= set(sentence1_list).union(set(sentence2_list))\n",
        "print (total)"
      ]
    },
    {
      "cell_type": "code",
      "execution_count": 52,
      "metadata": {
        "id": "yeFluq15CTmi",
        "outputId": "9bd28eea-8ab2-4e0a-cc47-5f459a20b7d7",
        "colab": {
          "base_uri": "https://localhost:8080/"
        }
      },
      "outputs": [
        {
          "output_type": "stream",
          "name": "stdout",
          "text": [
            "{'got': 1, 'final': 0, 'a': 0, 'n': 1, 'e': 1, 'Go': 1, 'jurong': 1, '2': 0, 'wat': 1, 'bugis': 1, 'amore': 1, 'Text': 0, 'FA': 0, 'C': 0, 'entry': 0, 'great': 1, '08452810075over18': 0, 'to': 0, '.': 0, 'std': 0, 'until': 1, 'Free': 0, 'rate': 0, 'May': 0, 'Available': 1, 'receive': 0, 'comp': 0, 'la': 1, 'there': 1, 'tkts': 0, 'crazy..': 1, ',': 1, '...': 2, 'T': 0, 'Cup': 0, '&': 0, '87121': 0, 'point': 1, \"'s\": 0, '21st': 0, 'buffet': 1, 'wkly': 0, 'win': 0, 'Cine': 1, 'txt': 0, 'only': 1, ')': 0, 'world': 1, '2005': 0, 'question': 0, '(': 0, 'apply': 0, 'in': 1}\n",
            "\n",
            "{'got': 0, 'final': 1, 'a': 1, 'n': 0, 'e': 0, 'Go': 0, 'jurong': 0, '2': 1, 'wat': 0, 'bugis': 0, 'amore': 0, 'Text': 1, 'FA': 2, 'C': 1, 'entry': 2, 'great': 0, '08452810075over18': 1, 'to': 3, '.': 1, 'std': 1, 'until': 0, 'Free': 1, 'rate': 1, 'May': 1, 'Available': 0, 'receive': 1, 'comp': 1, 'la': 0, 'there': 0, 'tkts': 1, 'crazy..': 0, ',': 0, '...': 0, 'T': 1, 'Cup': 1, '&': 1, '87121': 1, 'point': 0, \"'s\": 2, '21st': 1, 'buffet': 0, 'wkly': 1, 'win': 1, 'Cine': 0, 'txt': 1, 'only': 0, ')': 1, 'world': 0, '2005': 1, 'question': 1, '(': 1, 'apply': 1, 'in': 1}\n"
          ]
        }
      ],
      "source": [
        "def create_word_dict(total, sentence):\n",
        "    wordDict = dict.fromkeys(total, 0)\n",
        "    for word in sentence:\n",
        "        wordDict[word] += 1\n",
        "    return wordDict\n",
        "\n",
        "wordDictA = create_word_dict(total,sentence1_list)\n",
        "wordDictB = create_word_dict(total,sentence2_list)\n",
        "\n",
        "print (wordDictA)\n",
        "print()\n",
        "print (wordDictB)"
      ]
    },
    {
      "cell_type": "markdown",
      "metadata": {
        "id": "EghqbVR8CTmj"
      },
      "source": [
        "# Term Freq\n"
      ]
    },
    {
      "cell_type": "code",
      "execution_count": 53,
      "metadata": {
        "id": "VaZtPJHtCTmj",
        "outputId": "3bdc6800-7f89-4b6d-c3c4-f360a8e78051",
        "colab": {
          "base_uri": "https://localhost:8080/"
        }
      },
      "outputs": [
        {
          "output_type": "stream",
          "name": "stdout",
          "text": [
            "TERM FREQUENCY OF SENTENCE1:\n",
            " {'got': 0.0425596144187959, 'final': 0.0, 'a': 0.0, 'n': 0.0425596144187959, 'e': 0.0425596144187959, 'Go': 0.0425596144187959, 'jurong': 0.0425596144187959, '2': 0.0, 'wat': 0.0425596144187959, 'bugis': 0.0425596144187959, 'amore': 0.0425596144187959, 'Text': 0.0, 'FA': 0.0, 'C': 0.0, 'entry': 0.0, 'great': 0.0425596144187959, '08452810075over18': 0.0, 'to': 0.0, '.': 0.0, 'std': 0.0, 'until': 0.0425596144187959, 'Free': 0.0, 'rate': 0.0, 'May': 0.0, 'Available': 0.0425596144187959, 'receive': 0.0, 'comp': 0.0, 'la': 0.0425596144187959, 'there': 0.0425596144187959, 'tkts': 0.0, 'crazy..': 0.0425596144187959, ',': 0.0425596144187959, '...': 0.083381608939051, 'T': 0.0, 'Cup': 0.0, '&': 0.0, '87121': 0.0, 'point': 0.0425596144187959, \"'s\": 0.0, '21st': 0.0, 'buffet': 0.0425596144187959, 'wkly': 0.0, 'win': 0.0, 'Cine': 0.0425596144187959, 'txt': 0.0, 'only': 0.0425596144187959, ')': 0.0, 'world': 0.0425596144187959, '2005': 0.0, 'question': 0.0, '(': 0.0, 'apply': 0.0, 'in': 0.0425596144187959}\n",
            "\n",
            "TERM FREQUENCY OF SENTENCE2:\n",
            " {'got': 0.0, 'final': 0.026668247082161273, 'a': 0.026668247082161273, 'n': 0.0, 'e': 0.0, 'Go': 0.0, 'jurong': 0.0, '2': 0.026668247082161273, 'wat': 0.0, 'bugis': 0.0, 'amore': 0.0, 'Text': 0.026668247082161273, 'FA': 0.05264373348542188, 'C': 0.026668247082161273, 'entry': 0.05264373348542188, 'great': 0.0, '08452810075over18': 0.026668247082161273, 'to': 0.07796154146971192, '.': 0.026668247082161273, 'std': 0.026668247082161273, 'until': 0.0, 'Free': 0.026668247082161273, 'rate': 0.026668247082161273, 'May': 0.026668247082161273, 'Available': 0.0, 'receive': 0.026668247082161273, 'comp': 0.026668247082161273, 'la': 0.0, 'there': 0.0, 'tkts': 0.026668247082161273, 'crazy..': 0.0, ',': 0.0, '...': 0.0, 'T': 0.026668247082161273, 'Cup': 0.026668247082161273, '&': 0.026668247082161273, '87121': 0.026668247082161273, 'point': 0.0, \"'s\": 0.05264373348542188, '21st': 0.026668247082161273, 'buffet': 0.0, 'wkly': 0.026668247082161273, 'win': 0.026668247082161273, 'Cine': 0.0, 'txt': 0.026668247082161273, 'only': 0.0, ')': 0.026668247082161273, 'world': 0.0, '2005': 0.026668247082161273, 'question': 0.026668247082161273, '(': 0.026668247082161273, 'apply': 0.026668247082161273, 'in': 0.026668247082161273}\n"
          ]
        }
      ],
      "source": [
        "tfFirst = computeTF(wordDictA, sentence1_list)\n",
        "tfSecond = computeTF(wordDictB, sentence2_list)\n",
        "print (\"TERM FREQUENCY OF SENTENCE1:\\n\",tfFirst)\n",
        "print()\n",
        "print (\"TERM FREQUENCY OF SENTENCE2:\\n\",tfSecond)"
      ]
    },
    {
      "cell_type": "markdown",
      "metadata": {
        "id": "7FK9GI53CTmk"
      },
      "source": [
        "# IDF"
      ]
    },
    {
      "cell_type": "code",
      "execution_count": 54,
      "metadata": {
        "id": "qv42M6I_CTmk",
        "outputId": "9564cee0-a855-4d30-bd11-5f71e220214f",
        "colab": {
          "base_uri": "https://localhost:8080/"
        }
      },
      "outputs": [
        {
          "output_type": "execute_result",
          "data": {
            "text/plain": [
              "{'&': 0.3010299956639812,\n",
              " \"'s\": 0.3010299956639812,\n",
              " '(': 0.3010299956639812,\n",
              " ')': 0.3010299956639812,\n",
              " ',': 0.3010299956639812,\n",
              " '.': 0.3010299956639812,\n",
              " '...': 0.3010299956639812,\n",
              " '08452810075over18': 0.3010299956639812,\n",
              " '2': 0.3010299956639812,\n",
              " '2005': 0.3010299956639812,\n",
              " '21st': 0.3010299956639812,\n",
              " '87121': 0.3010299956639812,\n",
              " 'Available': 0.3010299956639812,\n",
              " 'C': 0.3010299956639812,\n",
              " 'Cine': 0.3010299956639812,\n",
              " 'Cup': 0.3010299956639812,\n",
              " 'FA': 0.3010299956639812,\n",
              " 'Free': 0.3010299956639812,\n",
              " 'Go': 0.3010299956639812,\n",
              " 'May': 0.3010299956639812,\n",
              " 'T': 0.3010299956639812,\n",
              " 'Text': 0.3010299956639812,\n",
              " 'a': 0.3010299956639812,\n",
              " 'amore': 0.3010299956639812,\n",
              " 'apply': 0.3010299956639812,\n",
              " 'buffet': 0.3010299956639812,\n",
              " 'bugis': 0.3010299956639812,\n",
              " 'comp': 0.3010299956639812,\n",
              " 'crazy..': 0.3010299956639812,\n",
              " 'e': 0.3010299956639812,\n",
              " 'entry': 0.3010299956639812,\n",
              " 'final': 0.3010299956639812,\n",
              " 'got': 0.3010299956639812,\n",
              " 'great': 0.3010299956639812,\n",
              " 'in': 0.0,\n",
              " 'jurong': 0.3010299956639812,\n",
              " 'la': 0.3010299956639812,\n",
              " 'n': 0.3010299956639812,\n",
              " 'only': 0.3010299956639812,\n",
              " 'point': 0.3010299956639812,\n",
              " 'question': 0.3010299956639812,\n",
              " 'rate': 0.3010299956639812,\n",
              " 'receive': 0.3010299956639812,\n",
              " 'std': 0.3010299956639812,\n",
              " 'there': 0.3010299956639812,\n",
              " 'tkts': 0.3010299956639812,\n",
              " 'to': 0.3010299956639812,\n",
              " 'txt': 0.3010299956639812,\n",
              " 'until': 0.3010299956639812,\n",
              " 'wat': 0.3010299956639812,\n",
              " 'win': 0.3010299956639812,\n",
              " 'wkly': 0.3010299956639812,\n",
              " 'world': 0.3010299956639812}"
            ]
          },
          "metadata": {},
          "execution_count": 54
        }
      ],
      "source": [
        "idfs = computeIDF([wordDictA, wordDictB])\n",
        "\n",
        "idfs"
      ]
    },
    {
      "cell_type": "markdown",
      "metadata": {
        "id": "XOqYh56tCTmk"
      },
      "source": [
        "# TDIDF"
      ]
    },
    {
      "cell_type": "code",
      "execution_count": 55,
      "metadata": {
        "id": "4Y-3Xhj8CTml",
        "outputId": "89158470-1188-40e0-d460-7bd2f0c3d295",
        "colab": {
          "base_uri": "https://localhost:8080/"
        }
      },
      "outputs": [
        {
          "output_type": "stream",
          "name": "stdout",
          "text": [
            "{'got': 0.012811720543950843, 'final': 0.0, 'a': 0.0, 'n': 0.012811720543950843, 'e': 0.012811720543950843, 'Go': 0.012811720543950843, 'jurong': 0.012811720543950843, '2': 0.0, 'wat': 0.012811720543950843, 'bugis': 0.012811720543950843, 'amore': 0.012811720543950843, 'Text': 0.0, 'FA': 0.0, 'C': 0.0, 'entry': 0.0, 'great': 0.012811720543950843, '08452810075over18': 0.0, 'to': 0.0, '.': 0.0, 'std': 0.0, 'until': 0.012811720543950843, 'Free': 0.0, 'rate': 0.0, 'May': 0.0, 'Available': 0.012811720543950843, 'receive': 0.0, 'comp': 0.0, 'la': 0.012811720543950843, 'there': 0.012811720543950843, 'tkts': 0.0, 'crazy..': 0.012811720543950843, ',': 0.012811720543950843, '...': 0.025100365377378298, 'T': 0.0, 'Cup': 0.0, '&': 0.0, '87121': 0.0, 'point': 0.012811720543950843, \"'s\": 0.0, '21st': 0.0, 'buffet': 0.012811720543950843, 'wkly': 0.0, 'win': 0.0, 'Cine': 0.012811720543950843, 'txt': 0.0, 'only': 0.012811720543950843, ')': 0.0, 'world': 0.012811720543950843, '2005': 0.0, 'question': 0.0, '(': 0.0, 'apply': 0.0, 'in': 0.0}\n",
            "\n",
            "{'got': 0.0, 'final': 0.008027942303508987, 'a': 0.008027942303508987, 'n': 0.0, 'e': 0.0, 'Go': 0.0, 'jurong': 0.0, '2': 0.008027942303508987, 'wat': 0.0, 'bugis': 0.0, 'amore': 0.0, 'Text': 0.008027942303508987, 'FA': 0.01584734286285233, 'C': 0.008027942303508987, 'entry': 0.01584734286285233, 'great': 0.0, '08452810075over18': 0.008027942303508987, 'to': 0.023468762490584667, '.': 0.008027942303508987, 'std': 0.008027942303508987, 'until': 0.0, 'Free': 0.008027942303508987, 'rate': 0.008027942303508987, 'May': 0.008027942303508987, 'Available': 0.0, 'receive': 0.008027942303508987, 'comp': 0.008027942303508987, 'la': 0.0, 'there': 0.0, 'tkts': 0.008027942303508987, 'crazy..': 0.0, ',': 0.0, '...': 0.0, 'T': 0.008027942303508987, 'Cup': 0.008027942303508987, '&': 0.008027942303508987, '87121': 0.008027942303508987, 'point': 0.0, \"'s\": 0.01584734286285233, '21st': 0.008027942303508987, 'buffet': 0.0, 'wkly': 0.008027942303508987, 'win': 0.008027942303508987, 'Cine': 0.0, 'txt': 0.008027942303508987, 'only': 0.0, ')': 0.008027942303508987, 'world': 0.0, '2005': 0.008027942303508987, 'question': 0.008027942303508987, '(': 0.008027942303508987, 'apply': 0.008027942303508987, 'in': 0.0}\n"
          ]
        }
      ],
      "source": [
        "#running our two sentences through the IDF:\n",
        "idfFirst = computeTFIDF(tfFirst, idfs)\n",
        "idfSecond = computeTFIDF(tfSecond, idfs)\n",
        "print (idfFirst)\n",
        "print()\n",
        "print (idfSecond)"
      ]
    },
    {
      "cell_type": "code",
      "execution_count": 56,
      "metadata": {
        "id": "PYK_OR7hCTml",
        "outputId": "1ec494f6-6760-47c9-c2bb-44f073143aa8",
        "colab": {
          "base_uri": "https://localhost:8080/",
          "height": 205
        }
      },
      "outputs": [
        {
          "output_type": "execute_result",
          "data": {
            "text/plain": [
              "        got     final         a         n         e        Go    jurong  \\\n",
              "0  0.012812  0.000000  0.000000  0.012812  0.012812  0.012812  0.012812   \n",
              "1  0.000000  0.008028  0.008028  0.000000  0.000000  0.000000  0.000000   \n",
              "\n",
              "          2       wat     bugis  ...      Cine       txt      only         )  \\\n",
              "0  0.000000  0.012812  0.012812  ...  0.012812  0.000000  0.012812  0.000000   \n",
              "1  0.008028  0.000000  0.000000  ...  0.000000  0.008028  0.000000  0.008028   \n",
              "\n",
              "      world      2005  question         (     apply   in  \n",
              "0  0.012812  0.000000  0.000000  0.000000  0.000000  0.0  \n",
              "1  0.000000  0.008028  0.008028  0.008028  0.008028  0.0  \n",
              "\n",
              "[2 rows x 53 columns]"
            ],
            "text/html": [
              "\n",
              "  <div id=\"df-63da5579-5725-4b5c-80ea-6070cfcd3266\">\n",
              "    <div class=\"colab-df-container\">\n",
              "      <div>\n",
              "<style scoped>\n",
              "    .dataframe tbody tr th:only-of-type {\n",
              "        vertical-align: middle;\n",
              "    }\n",
              "\n",
              "    .dataframe tbody tr th {\n",
              "        vertical-align: top;\n",
              "    }\n",
              "\n",
              "    .dataframe thead th {\n",
              "        text-align: right;\n",
              "    }\n",
              "</style>\n",
              "<table border=\"1\" class=\"dataframe\">\n",
              "  <thead>\n",
              "    <tr style=\"text-align: right;\">\n",
              "      <th></th>\n",
              "      <th>got</th>\n",
              "      <th>final</th>\n",
              "      <th>a</th>\n",
              "      <th>n</th>\n",
              "      <th>e</th>\n",
              "      <th>Go</th>\n",
              "      <th>jurong</th>\n",
              "      <th>2</th>\n",
              "      <th>wat</th>\n",
              "      <th>bugis</th>\n",
              "      <th>...</th>\n",
              "      <th>Cine</th>\n",
              "      <th>txt</th>\n",
              "      <th>only</th>\n",
              "      <th>)</th>\n",
              "      <th>world</th>\n",
              "      <th>2005</th>\n",
              "      <th>question</th>\n",
              "      <th>(</th>\n",
              "      <th>apply</th>\n",
              "      <th>in</th>\n",
              "    </tr>\n",
              "  </thead>\n",
              "  <tbody>\n",
              "    <tr>\n",
              "      <th>0</th>\n",
              "      <td>0.012812</td>\n",
              "      <td>0.000000</td>\n",
              "      <td>0.000000</td>\n",
              "      <td>0.012812</td>\n",
              "      <td>0.012812</td>\n",
              "      <td>0.012812</td>\n",
              "      <td>0.012812</td>\n",
              "      <td>0.000000</td>\n",
              "      <td>0.012812</td>\n",
              "      <td>0.012812</td>\n",
              "      <td>...</td>\n",
              "      <td>0.012812</td>\n",
              "      <td>0.000000</td>\n",
              "      <td>0.012812</td>\n",
              "      <td>0.000000</td>\n",
              "      <td>0.012812</td>\n",
              "      <td>0.000000</td>\n",
              "      <td>0.000000</td>\n",
              "      <td>0.000000</td>\n",
              "      <td>0.000000</td>\n",
              "      <td>0.0</td>\n",
              "    </tr>\n",
              "    <tr>\n",
              "      <th>1</th>\n",
              "      <td>0.000000</td>\n",
              "      <td>0.008028</td>\n",
              "      <td>0.008028</td>\n",
              "      <td>0.000000</td>\n",
              "      <td>0.000000</td>\n",
              "      <td>0.000000</td>\n",
              "      <td>0.000000</td>\n",
              "      <td>0.008028</td>\n",
              "      <td>0.000000</td>\n",
              "      <td>0.000000</td>\n",
              "      <td>...</td>\n",
              "      <td>0.000000</td>\n",
              "      <td>0.008028</td>\n",
              "      <td>0.000000</td>\n",
              "      <td>0.008028</td>\n",
              "      <td>0.000000</td>\n",
              "      <td>0.008028</td>\n",
              "      <td>0.008028</td>\n",
              "      <td>0.008028</td>\n",
              "      <td>0.008028</td>\n",
              "      <td>0.0</td>\n",
              "    </tr>\n",
              "  </tbody>\n",
              "</table>\n",
              "<p>2 rows × 53 columns</p>\n",
              "</div>\n",
              "      <button class=\"colab-df-convert\" onclick=\"convertToInteractive('df-63da5579-5725-4b5c-80ea-6070cfcd3266')\"\n",
              "              title=\"Convert this dataframe to an interactive table.\"\n",
              "              style=\"display:none;\">\n",
              "        \n",
              "  <svg xmlns=\"http://www.w3.org/2000/svg\" height=\"24px\"viewBox=\"0 0 24 24\"\n",
              "       width=\"24px\">\n",
              "    <path d=\"M0 0h24v24H0V0z\" fill=\"none\"/>\n",
              "    <path d=\"M18.56 5.44l.94 2.06.94-2.06 2.06-.94-2.06-.94-.94-2.06-.94 2.06-2.06.94zm-11 1L8.5 8.5l.94-2.06 2.06-.94-2.06-.94L8.5 2.5l-.94 2.06-2.06.94zm10 10l.94 2.06.94-2.06 2.06-.94-2.06-.94-.94-2.06-.94 2.06-2.06.94z\"/><path d=\"M17.41 7.96l-1.37-1.37c-.4-.4-.92-.59-1.43-.59-.52 0-1.04.2-1.43.59L10.3 9.45l-7.72 7.72c-.78.78-.78 2.05 0 2.83L4 21.41c.39.39.9.59 1.41.59.51 0 1.02-.2 1.41-.59l7.78-7.78 2.81-2.81c.8-.78.8-2.07 0-2.86zM5.41 20L4 18.59l7.72-7.72 1.47 1.35L5.41 20z\"/>\n",
              "  </svg>\n",
              "      </button>\n",
              "      \n",
              "  <style>\n",
              "    .colab-df-container {\n",
              "      display:flex;\n",
              "      flex-wrap:wrap;\n",
              "      gap: 12px;\n",
              "    }\n",
              "\n",
              "    .colab-df-convert {\n",
              "      background-color: #E8F0FE;\n",
              "      border: none;\n",
              "      border-radius: 50%;\n",
              "      cursor: pointer;\n",
              "      display: none;\n",
              "      fill: #1967D2;\n",
              "      height: 32px;\n",
              "      padding: 0 0 0 0;\n",
              "      width: 32px;\n",
              "    }\n",
              "\n",
              "    .colab-df-convert:hover {\n",
              "      background-color: #E2EBFA;\n",
              "      box-shadow: 0px 1px 2px rgba(60, 64, 67, 0.3), 0px 1px 3px 1px rgba(60, 64, 67, 0.15);\n",
              "      fill: #174EA6;\n",
              "    }\n",
              "\n",
              "    [theme=dark] .colab-df-convert {\n",
              "      background-color: #3B4455;\n",
              "      fill: #D2E3FC;\n",
              "    }\n",
              "\n",
              "    [theme=dark] .colab-df-convert:hover {\n",
              "      background-color: #434B5C;\n",
              "      box-shadow: 0px 1px 3px 1px rgba(0, 0, 0, 0.15);\n",
              "      filter: drop-shadow(0px 1px 2px rgba(0, 0, 0, 0.3));\n",
              "      fill: #FFFFFF;\n",
              "    }\n",
              "  </style>\n",
              "\n",
              "      <script>\n",
              "        const buttonEl =\n",
              "          document.querySelector('#df-63da5579-5725-4b5c-80ea-6070cfcd3266 button.colab-df-convert');\n",
              "        buttonEl.style.display =\n",
              "          google.colab.kernel.accessAllowed ? 'block' : 'none';\n",
              "\n",
              "        async function convertToInteractive(key) {\n",
              "          const element = document.querySelector('#df-63da5579-5725-4b5c-80ea-6070cfcd3266');\n",
              "          const dataTable =\n",
              "            await google.colab.kernel.invokeFunction('convertToInteractive',\n",
              "                                                     [key], {});\n",
              "          if (!dataTable) return;\n",
              "\n",
              "          const docLinkHtml = 'Like what you see? Visit the ' +\n",
              "            '<a target=\"_blank\" href=https://colab.research.google.com/notebooks/data_table.ipynb>data table notebook</a>'\n",
              "            + ' to learn more about interactive tables.';\n",
              "          element.innerHTML = '';\n",
              "          dataTable['output_type'] = 'display_data';\n",
              "          await google.colab.output.renderOutput(dataTable, element);\n",
              "          const docLink = document.createElement('div');\n",
              "          docLink.innerHTML = docLinkHtml;\n",
              "          element.appendChild(docLink);\n",
              "        }\n",
              "      </script>\n",
              "    </div>\n",
              "  </div>\n",
              "  "
            ]
          },
          "metadata": {},
          "execution_count": 56
        }
      ],
      "source": [
        "\n",
        "#putting it in a dataframe\n",
        "idf = pd.DataFrame([idfFirst, idfSecond])\n",
        "idf.head()"
      ]
    },
    {
      "cell_type": "code",
      "execution_count": null,
      "metadata": {
        "id": "Vi0jZuMFCTml"
      },
      "outputs": [],
      "source": [
        ""
      ]
    },
    {
      "cell_type": "code",
      "execution_count": null,
      "metadata": {
        "id": "yD5Q9f0vCTml"
      },
      "outputs": [],
      "source": [
        ""
      ]
    },
    {
      "cell_type": "code",
      "execution_count": null,
      "metadata": {
        "id": "2sKjKsQhCTml"
      },
      "outputs": [],
      "source": [
        " "
      ]
    },
    {
      "cell_type": "code",
      "execution_count": null,
      "metadata": {
        "id": "C194h8QsCTmm"
      },
      "outputs": [],
      "source": [
        ""
      ]
    }
  ],
  "metadata": {
    "kernelspec": {
      "display_name": "Python 3",
      "language": "python",
      "name": "python3"
    },
    "language_info": {
      "codemirror_mode": {
        "name": "ipython",
        "version": 3
      },
      "file_extension": ".py",
      "mimetype": "text/x-python",
      "name": "python",
      "nbconvert_exporter": "python",
      "pygments_lexer": "ipython3",
      "version": "3.7.6"
    },
    "colab": {
      "name": "Copy of TF-IDF from Scratch.ipynb",
      "provenance": [],
      "include_colab_link": true
    }
  },
  "nbformat": 4,
  "nbformat_minor": 0
}