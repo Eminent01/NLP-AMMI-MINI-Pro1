{
  "nbformat": 4,
  "nbformat_minor": 0,
  "metadata": {
    "colab": {
      "name": "count_encoding.ipynb",
      "provenance": [],
      "authorship_tag": "ABX9TyN9JNbriOeoHJ3gWRT1kOOf",
      "include_colab_link": true
    },
    "kernelspec": {
      "name": "python3",
      "display_name": "Python 3"
    },
    "language_info": {
      "name": "python"
    }
  },
  "cells": [
    {
      "cell_type": "markdown",
      "metadata": {
        "id": "view-in-github",
        "colab_type": "text"
      },
      "source": [
        "<a href=\"https://colab.research.google.com/github/fatimahaidara/GMM-Group-Project/blob/main/count_encoding.ipynb\" target=\"_parent\"><img src=\"https://colab.research.google.com/assets/colab-badge.svg\" alt=\"Open In Colab\"/></a>"
      ]
    },
    {
      "cell_type": "markdown",
      "source": [
        "##Count vectorizer or count frequency "
      ],
      "metadata": {
        "id": "SMiflZgVJrl4"
      }
    },
    {
      "cell_type": "code",
      "source": [
        "#Let's take an example data for testing our count Vectorizer \n",
        "\n",
        "data = [\n",
        "\"doubt thou the stars are fire ;\",\n",
        "\"doubt that the sun doth move ;\",\n",
        "\"doubt truth to be a liar;\",\n",
        "\"but never doubt i love.\"]\n",
        "\n",
        "def custum_fit(data) :\n",
        "# \"This function just returns index of the text\"\n",
        "  unique_words = set()\n",
        "\n",
        "  for each_sentence in data:\n",
        "\n",
        "    for each_word in each_sentence.split(' '):\n",
        "\n",
        "      if len(each_word) > 2:      #we are removing the ',' & ';' and more.\n",
        "        unique_words.add(each_word)\n",
        "\n",
        "  #to get the index of the word\n",
        "\n",
        "  vocab = {}\n",
        "\n",
        "  for index, word in enumerate(sorted(list (unique_words))) :\n",
        "    vocab[word] = index\n",
        "\n",
        "  return vocab\n",
        "\n",
        "  #checking if its working\n",
        "print (custum_fit(data))"
      ],
      "metadata": {
        "colab": {
          "base_uri": "https://localhost:8080/"
        },
        "id": "STYfIZgEdG1U",
        "outputId": "47503770-e219-41ba-fd25-0fde29a6c9e7"
      },
      "execution_count": 30,
      "outputs": [
        {
          "output_type": "stream",
          "name": "stdout",
          "text": [
            "{'are': 0, 'but': 1, 'doth': 2, 'doubt': 3, 'fire': 4, 'liar;': 5, 'love.': 6, 'move': 7, 'never': 8, 'stars': 9, 'sun': 10, 'that': 11, 'the': 12, 'thou': 13, 'truth': 14}\n"
          ]
        }
      ]
    },
    {
      "cell_type": "code",
      "source": [
        "#The counter function\n",
        "def counter(words):\n",
        "  occount = {}\n",
        "  for i in words:\n",
        "    occount[i] = occount.get(i, 0) + 1\n",
        "  return occount"
      ],
      "metadata": {
        "id": "VhSu6nCGoPyr"
      },
      "execution_count": 60,
      "outputs": []
    },
    {
      "cell_type": "code",
      "execution_count": 62,
      "metadata": {
        "id": "W-KoJsE7bPrG"
      },
      "outputs": [],
      "source": [
        "from scipy.sparse import csr_matrix\n",
        "def custom_transform(data):\n",
        "# \"Given any data in list, this gives the matrix of the count\"\n",
        "\n",
        "  vocab = custum_fit(data) # this is the (1) function\n",
        "  row, col, val = [], [], [] #creating Lists to store sparse matrix\n",
        "  for idx, sentence in enumerate(data) :\n",
        "    count_word = dict(counter(sentence.split(' ')))\n",
        "  #we need to check the words in count word\n",
        "  #with the vocab dictionary\n",
        "    for word, count in count_word.items():\n",
        "      if len(word) > 2:\n",
        "  #if yes we need to take the index of that word\n",
        "        col_index = vocab.get(word)\n",
        "        if col_index >= 0:\n",
        "          row. append (idx)\n",
        "          col.append (col_index)\n",
        "          val.append(count)\n",
        "  return csr_matrix((val, (row, col)), shape=(len(data) ,len(vocab)))\n"
      ]
    },
    {
      "cell_type": "code",
      "source": [
        "#The count \n",
        "print(custom_transform(data).toarray())"
      ],
      "metadata": {
        "colab": {
          "base_uri": "https://localhost:8080/"
        },
        "id": "nsTrjAlAmJvK",
        "outputId": "48af6078-354d-4e7d-c924-c45b96a71e5f"
      },
      "execution_count": 63,
      "outputs": [
        {
          "output_type": "stream",
          "name": "stdout",
          "text": [
            "[[1 0 0 1 1 0 0 0 0 1 0 0 1 1 0]\n",
            " [0 0 1 1 0 0 0 1 0 0 1 1 1 0 0]\n",
            " [0 0 0 1 0 1 0 0 0 0 0 0 0 0 1]\n",
            " [0 1 0 1 0 0 1 0 1 0 0 0 0 0 0]]\n"
          ]
        }
      ]
    },
    {
      "cell_type": "code",
      "source": [
        ""
      ],
      "metadata": {
        "id": "OclBjBnfmffa"
      },
      "execution_count": null,
      "outputs": []
    }
  ]
}