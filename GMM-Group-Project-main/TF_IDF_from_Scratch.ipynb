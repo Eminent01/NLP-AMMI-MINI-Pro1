{
  "cells": [
    {
      "cell_type": "markdown",
      "metadata": {
        "id": "view-in-github",
        "colab_type": "text"
      },
      "source": [
        "<a href=\"https://colab.research.google.com/github/soumfatim/GMM-Group-Project/blob/main/TF_IDF_from_Scratch.ipynb\" target=\"_parent\"><img src=\"https://colab.research.google.com/assets/colab-badge.svg\" alt=\"Open In Colab\"/></a>"
      ]
    },
    {
      "cell_type": "markdown",
      "metadata": {
        "id": "zjg6Wc4PCTmd"
      },
      "source": [
        "# TF-IDF from Scratch"
      ]
    },
    {
      "cell_type": "code",
      "execution_count": null,
      "metadata": {
        "id": "hsSEUuTcCTmg"
      },
      "outputs": [],
      "source": [
        "def computeTF(wordDict, doc):\n",
        "    \"\"\"\n",
        "        tf(t,d) = log(1+f(t,d))\n",
        "        f(t,d)=count of t in d / number of words in d\n",
        "\n",
        "    :param wordDict:\n",
        "    :param doc:\n",
        "    :return:\n",
        "    \"\"\"\n",
        "    tfDict = {}\n",
        "    corpusCount = len(doc)\n",
        "    for word, count in wordDict.items():\n",
        "        tfDict[word] = math.log(1+count/float(corpusCount))\n",
        "    return(tfDict)\n",
        "def computeIDF(docList):\n",
        "    import math\n",
        "    idfDict = {}\n",
        "    N = len(docList)\n",
        "    \n",
        "    idfDict = dict.fromkeys(docList[0].keys(), 0)\n",
        "    for doc in docList:\n",
        "        for word, val in doc.items():\n",
        "            if val > 0:\n",
        "                idfDict[word] += 1\n",
        "    \n",
        "    for word, val in idfDict.items():\n",
        "        idfDict[word] = math.log10(N / float(val))\n",
        "        \n",
        "    return idfDict\n",
        "\n",
        "def computeTFIDF(tfBow, idfs):\n",
        "    \"\"\"\n",
        "    tf-idf(t, d) = tf(t, d) * log(N/(df + 1))\n",
        "    :param tfBow:\n",
        "    :param idfs:\n",
        "    :return:\n",
        "    \"\"\"\n",
        "    tfidf = {}\n",
        "    for word, val in tfBow.items():\n",
        "        tfidf[word] = val*idfs[word]\n",
        "    return(tfidf)\n"
      ]
    }
  ],
  "metadata": {
    "kernelspec": {
      "display_name": "Python 3",
      "language": "python",
      "name": "python3"
    },
    "language_info": {
      "codemirror_mode": {
        "name": "ipython",
        "version": 3
      },
      "file_extension": ".py",
      "mimetype": "text/x-python",
      "name": "python",
      "nbconvert_exporter": "python",
      "pygments_lexer": "ipython3",
      "version": "3.7.6"
    },
    "colab": {
      "name": "TF-IDF from Scratch.ipynb",
      "provenance": [],
      "collapsed_sections": [],
      "include_colab_link": true
    }
  },
  "nbformat": 4,
  "nbformat_minor": 0
}